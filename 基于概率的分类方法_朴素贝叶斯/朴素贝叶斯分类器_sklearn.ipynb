{
 "cells": [
  {
   "cell_type": "markdown",
   "metadata": {},
   "source": [
    "### 使用sklearn构建朴素贝叶斯分类器\n",
    "\n",
    "在scikit-learn中，一共有3个朴素贝叶斯的分类算法类。分别是**GaussianNB**，**MultinomialNB**和**BernoulliNB**。\n",
    "\n",
    "* GaussianNB就是先验为高斯分布的朴素贝叶斯\n",
    "\n",
    "* MultinomialNB 就是先验为多项式分布的朴素贝叶斯\n",
    "\n",
    "* BernoulliNB 就是先验为伯努利分布的朴素贝叶斯\n",
    "\n",
    "对于新闻的分类，属于多分类问题，可以使用MultinomialNB来完成，假设特征的先验概率为多项式分布：\n",
    "\n",
    "**class sklearn.naive_bayes.MultinomialNB(alpha=1.0, fit_prior=True, class_prior=None)**\n",
    "\n",
    "* alpha：浮点型可选参数，默认为1.0，其实就是添加拉普拉斯平滑，即为上述公式中的λ ，如果这个参数设置为0，就是不添加平滑；\n",
    "\n",
    "* fit_prior：布尔型可选参数，默认为True。布尔参数fit_prior表示是否要考虑先验概率，如果是false,则所有的样本类别输出都有相同的类别先验概率。否则可以自己用第三个参数class_prior输入先验概率，或者不输入第三个参数class_prior让MultinomialNB自己从训练集样本来计算先验概率，此时的先验概率为P(Y=Ck)=mk/m。其中m为训练集样本总数量，mk为输出为第k类别的训练集样本数。\n",
    " \n",
    "* class_prior：可选参数，默认为None。\n",
    "\n",
    "提供的方法：\n",
    "![title](images/006.png)\n",
    "\n",
    "拟合：\n",
    "\n",
    "* fit：一般的拟合\n",
    "\n",
    "* partial_fit：一般用在训练集数据量非常大，一次不能全部载入内存的时候，这个时候可以把训练集分成若干等分，重复调用该方法来一步步学习训练集。\n",
    "\n",
    "预测：\n",
    "\n",
    "* predict：常用的预测方法，直接给出测试集的预测类别输出\n",
    "\n",
    "* predict_log_proba：预测出的各个类别对数概率里的最大值对应的类别，也就是predict方法得到类别\n",
    "\n",
    "* predict_proba：它会给出测试集样本在各个类别上预测的概率，预测出的各个类别概率里的最大值对应的类别，也就是predict方法得到类别。\n",
    "\n",
    "\n",
    "\n",
    "\n",
    "\n"
   ]
  },
  {
   "cell_type": "code",
   "execution_count": null,
   "metadata": {},
   "outputs": [],
   "source": []
  }
 ],
 "metadata": {
  "kernelspec": {
   "display_name": "Python 3",
   "language": "python",
   "name": "python3"
  },
  "language_info": {
   "codemirror_mode": {
    "name": "ipython",
    "version": 3
   },
   "file_extension": ".py",
   "mimetype": "text/x-python",
   "name": "python",
   "nbconvert_exporter": "python",
   "pygments_lexer": "ipython3",
   "version": "3.6.5"
  }
 },
 "nbformat": 4,
 "nbformat_minor": 2
}
