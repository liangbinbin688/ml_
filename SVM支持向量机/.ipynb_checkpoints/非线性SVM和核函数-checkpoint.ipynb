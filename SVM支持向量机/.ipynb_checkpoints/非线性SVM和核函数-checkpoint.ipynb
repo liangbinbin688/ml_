{
 "cells": [
  {
   "cell_type": "markdown",
   "metadata": {},
   "source": [
    "### 2.非线性支持向量机与核函数\n",
    "\n",
    "    当分类问题是非线性的时候，可以使用非线性支持向量机，其主要特点是利用核技巧。\n",
    "    \n",
    "    \n",
    "#### 2.1核技巧\n",
    "\n",
    "##### 2.1.1核函数的使用背景\n",
    "\n",
    "![title](images/033.png)\n",
    "![title](images/034.png)\n",
    "非线性问题的解决方法：通过非线性变换，将非线性问题变为线性问题\n",
    "\n",
    "**举例说明：**\n",
    "假设二维平面x-y上存在若干点，其中点集A服从{x,y|x^2+y^2=1}，点集B服从{x,y|x^2+y^2=9}，那么这些点在二维平面上的分布是这样的： \n",
    "![title](images/035.png)\n",
    "\n",
    "\n",
    "蓝色的是点集A，红色的是点集B，他们在xy平面上并不能线性可分，即用一条直线分割（ 虽然肉眼是可以识别的） 。采用映射(x,y)->(x,y,x^2+y^2)后，在三维空间的点的分布为： \n",
    "\n",
    "![title](images/036.png)\n",
    "![title](images/037.png)\n",
    "\n",
    "**用线性分类方法求解非线性问题分为两步：**\n",
    "\n",
    "+ 使用一个变换将原空间的数据映射到新空间 \n",
    "\n",
    "+ 在新空间用线性分类学习方法从训练数据中学习分类模型\n",
    "\n",
    "##### 2.1.2 核函数的定义\n",
    "    \n",
    "  设$\\chi$为输入空间，又设$H$为特征空间(希尔伯特空间)，如果存在一个从$\\chi$到$H$的映射：$$\\Phi(x)={\\chi}->H$$\n",
    "    使得所有的$x,z\\in{\\chi}$，函数$K(x,z)=\\Phi(x)*\\Phi(z)$,K称为核函数，$\\Phi$为映射函数。\n",
    "    \n",
    "![title](images/038.png)\n",
    "    \n",
    "##### 2.1.3核技巧在支持向量机中的应用 \n",
    "![title](images/040.png)\n",
    "![title](images/039.png)\n",
    "\n",
    "##### 2.1.4常见的核函数\n",
    "![title](images/041.png)\n",
    "\n",
    "![title](images/042.png)\n",
    "\n",
    "利用核技巧可以将线性分类的学习方法应用到非线性分类问题中去，将线性支持向量机扩展到非线性支持向量机，只需将线性支持向量机对偶形式的内积换成核函数即可。\n",
    "\n",
    "从非线性分类训练集，通过核函数与软间隔最大化，或凸二次规划(7.95)~(7.97)学习得到的分类决策函数：\n",
    "\n",
    "![title](images/043.png)\n",
    "\n",
    "称为非线性支持向量，$K(x,z)$是正定核函数。\n",
    "\n",
    "非线性支持向量机学习算法：\n",
    "\n",
    "![title](images/044.png)"
   ]
  },
  {
   "cell_type": "markdown",
   "metadata": {},
   "source": []
  }
 ],
 "metadata": {
  "kernelspec": {
   "display_name": "Python 3",
   "language": "python",
   "name": "python3"
  },
  "language_info": {
   "codemirror_mode": {
    "name": "ipython",
    "version": 3
   },
   "file_extension": ".py",
   "mimetype": "text/x-python",
   "name": "python",
   "nbconvert_exporter": "python",
   "pygments_lexer": "ipython3",
   "version": "3.6.5"
  }
 },
 "nbformat": 4,
 "nbformat_minor": 2
}
