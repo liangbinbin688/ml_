{
 "cells": [
  {
   "cell_type": "markdown",
   "metadata": {},
   "source": [
    "## Photo_OCR(照片光学字符识别)\n",
    "\n",
    "Photo Optical Character Recognition,\n",
    "\n",
    "目的是为了让计算机读懂图片中的字符等。\n",
    "\n",
    "**机器学习流水线**\n",
    "\n",
    "![001](images/001.png)\n",
    "\n",
    "**滑动窗口分类器：**\n",
    "\n",
    "+ 滑动窗口识别文字区域\n",
    "\n",
    "+ 滑动窗口分割字符\n",
    "\n",
    "+ 字符识别\n",
    "![002](images/002.png)\n",
    "\n",
    "![002](images/006.png)\n",
    "\n",
    "**行人检测实例：**\n",
    "\n",
    "![003](images/003.png)\n",
    "\n",
    "根据训练集训练好人类识别的分类器。\n",
    "\n",
    "![004](images/004.png)\n",
    "\n",
    "滑动窗口分割照片，检测行人。\n",
    "\n",
    "![005](images/005.png)\n",
    "\n",
    "使用滑动窗口进行行人检测，将滑动窗口分割的图像处理成分类器大小的数据。\n",
    "\n",
    "\n",
    "人工合成数据：扩充数据集，提高训练器的分类性能。\n",
    "\n",
    "+ 人工合成，从零开始\n",
    "\n",
    "+ 原始数据集加噪声，形成更大数量的数据集。\n",
    "\n",
    "当遇到机器学习的问题时，有两件事是值得做的：\n",
    "\n",
    "+ 用学习曲线做一个合理的验证，看更多的数据是否真的管用\n",
    "\n",
    "+ 考虑扩充样本的成本\n",
    "\n",
    "\n"
   ]
  },
  {
   "cell_type": "code",
   "execution_count": null,
   "metadata": {},
   "outputs": [],
   "source": []
  }
 ],
 "metadata": {
  "kernelspec": {
   "display_name": "Python 3",
   "language": "python",
   "name": "python3"
  },
  "language_info": {
   "codemirror_mode": {
    "name": "ipython",
    "version": 3
   },
   "file_extension": ".py",
   "mimetype": "text/x-python",
   "name": "python",
   "nbconvert_exporter": "python",
   "pygments_lexer": "ipython3",
   "version": "3.6.5"
  }
 },
 "nbformat": 4,
 "nbformat_minor": 2
}
